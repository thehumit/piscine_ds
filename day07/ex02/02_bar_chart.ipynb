{
 "cells": [
  {
   "cell_type": "code",
   "execution_count": 30,
   "id": "70699397",
   "metadata": {},
   "outputs": [],
   "source": [
    "import pandas as pd\n",
    "import sqlite3\n",
    "import matplotlib"
   ]
  },
  {
   "cell_type": "code",
   "execution_count": 34,
   "id": "d2fbe37a",
   "metadata": {},
   "outputs": [],
   "source": [
    "con = sqlite3.connect(\"../data/checking-logs.sqlite.sqlite\")\n",
    "\n",
    "df = pd.read_sql_query(\"SELECT timestamp as datetime FROM checker where uid like 'user%'\", con, parse_dates=[\"datetime\"])\n"
   ]
  },
  {
   "cell_type": "code",
   "execution_count": 35,
   "id": "50f1fb75",
   "metadata": {},
   "outputs": [],
   "source": [
    "df[\"time\"] = df[\"datetime\"].dt.hour\n",
    "\n",
    "interval = pd.IntervalIndex.from_tuples([(0, 4), (4, 10), (10, 17), \n",
    "                              (17, 24)], closed=\"left\")\n",
    "\n",
    "lab = [\"night\", \"morning\", \"afternoon\", \"evening\"]\n",
    "\n",
    "daytime = pd.cut(df[\"time\"], bins = interval)\n",
    "\n",
    "int_to_daytime = dict(zip(interval, lab))\n",
    "\n",
    "daytime = daytime.apply(lambda x: int_to_daytime[x])\n",
    "df[\"daytime\"] = daytime\n",
    "# df.set_index([\"user\"], drop=True, inplace=True)\n",
    "df.drop([\"time\"], axis=1, inplace=True)"
   ]
  },
  {
   "cell_type": "code",
   "execution_count": 36,
   "id": "cd7de492",
   "metadata": {},
   "outputs": [],
   "source": [
    "df_grouped = df.groupby([df[\"datetime\"].dt.date, \"daytime\"]).count().unstack().droplevel(0, axis = \"columns\")"
   ]
  },
  {
   "cell_type": "code",
   "execution_count": 37,
   "id": "a583c84b",
   "metadata": {},
   "outputs": [
    {
     "data": {
      "text/plain": [
       "<AxesSubplot:xlabel='datetime'>"
      ]
     },
     "execution_count": 37,
     "metadata": {},
     "output_type": "execute_result"
    },
    {
     "data": {
      "image/png": "[encoded data removed]",
      "text/plain": [
       "<Figure size 1080x576 with 1 Axes>"
      ]
     },
     "metadata": {
      "needs_background": "light"
     },
     "output_type": "display_data"
    }
   ],
   "source": [
    "df_grouped.plot(figsize = (15, 8), fontsize = 10, kind = \"bar\", stacked = True)"
   ]
  },
  {
   "cell_type": "markdown",
   "id": "b1d45e90",
   "metadata": {},
   "source": [
    "## “When do our users usually commit the labs: in the night, morning, afternoon,\n",
    "## or evening?”, the answer is the two most common periods.\n",
    "## ◦ Which day has:\n",
    "## ∗ the most number of commits\n",
    "## ∗ and at the same time, the number of commits in the evening is higher\n",
    "## than in the afternoon?"
   ]
  },
  {
   "cell_type": "markdown",
   "id": "19231e99",
   "metadata": {},
   "source": [
    "2020-05-12"
   ]
  },
  {
   "cell_type": "code",
   "execution_count": null,
   "id": "98dab62d",
   "metadata": {},
   "outputs": [],
   "source": []
  },
  {
   "cell_type": "code",
   "execution_count": null,
   "id": "f689dd02",
   "metadata": {},
   "outputs": [],
   "source": []
  }
 ],
 "metadata": {
  "kernelspec": {
   "display_name": "Python 3 (ipykernel)",
   "language": "python",
   "name": "python3"
  },
  "language_info": {
   "codemirror_mode": {
    "name": "ipython",
    "version": 3
   },
   "file_extension": ".py",
   "mimetype": "text/x-python",
   "name": "python",
   "nbconvert_exporter": "python",
   "pygments_lexer": "ipython3",
   "version": "3.7.8"
  }
 },
 "nbformat": 4,
 "nbformat_minor": 5
}
